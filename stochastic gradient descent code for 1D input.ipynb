{
 "cells": [
  {
   "cell_type": "code",
   "execution_count": 18,
   "metadata": {},
   "outputs": [
    {
     "name": "stdout",
     "output_type": "stream",
     "text": [
      "(331, 2)\n",
      "331\n",
      "-0.0491050163910452 -0.044641636506989\n",
      "-0.0491050163910452 -0.044641636506989\n"
     ]
    }
   ],
   "source": [
    "#Ways to access elements of a 2D array.Go through this cell before proceeding to the code for gradient descent.\n",
    "# import numpy as np\n",
    "# data=np.loadtxt(\"C:/Users/Prii/Desktop/Ml(coding ninjas)/Python/Diabetes dataset_LR/0000000000002329_training_diabetes_x_y_train.csv\",delimiter=\",\")\n",
    "# new=data[:,:2]\n",
    "# print(new.shape)\n",
    "# print(len(new))\n",
    "# print(new[0][0],new[0][1])\n",
    "# print(new[0,0],new[0,1])"
   ]
  },
  {
   "cell_type": "code",
   "execution_count": 32,
   "metadata": {},
   "outputs": [],
   "source": [
    "def step_gradient(data,m,c,a):\n",
    "    l=len(data)#len(data) gives no of rows in the array\n",
    "    slope_wrt_m=0\n",
    "    slope_wrt_c=0\n",
    "    for i in range(l):\n",
    "        #print(cost(data,m,c))\n",
    "        x=data[i,0]\n",
    "        y=data[i,10]\n",
    "        m-=a*(-2/l)*(y-m*x-c)*x\n",
    "        c-=a*(-2/l)*(data[i,10]-m*data[i,0]-c)\n",
    "    return m,c\n",
    "        "
   ]
  },
  {
   "cell_type": "code",
   "execution_count": 33,
   "metadata": {},
   "outputs": [],
   "source": [
    "def cost(data,m,c):\n",
    "    l=len(data)\n",
    "    cost=0\n",
    "    for i in range(l):\n",
    "        x=data[i,0]\n",
    "        y=data[i,10]\n",
    "        cost+=(1/l)*((y-m*x-c)**2)\n",
    "    return cost"
   ]
  },
  {
   "cell_type": "code",
   "execution_count": 34,
   "metadata": {},
   "outputs": [],
   "source": [
    "def gradient_descent(data,m,c,a,num_ite):\n",
    "    for i in range(num_ite):\n",
    "        m,c=step_gradient(data,m,c,a)\n",
    "    return m,c\n",
    "    "
   ]
  },
  {
   "cell_type": "code",
   "execution_count": 35,
   "metadata": {},
   "outputs": [],
   "source": [
    "# def feature_scaling(data):\n",
    "#     data[:,0]=(data[:,0]-(data[:,0].mean()))-(max(data[:,0])-min(data[:,0]))\n",
    "#     return data"
   ]
  },
  {
   "cell_type": "code",
   "execution_count": 36,
   "metadata": {},
   "outputs": [
    {
     "name": "stdout",
     "output_type": "stream",
     "text": [
      "(331, 11)\n",
      "[247.85086212] 149.77507022380476\n",
      "optimal cost: 5743.4636211602565\n",
      "m: 245.2768807821008 c: 150.90401468943725\n",
      "5744.754100273404\n"
     ]
    }
   ],
   "source": [
    "import numpy as np\n",
    "data=np.loadtxt(\"C:/Users/Prii/Desktop/Ml(coding ninjas)/Python/Diabetes dataset_LR/0000000000002329_training_diabetes_x_y_train.csv\",delimiter=\",\")\n",
    "print(data.shape)\n",
    "m=0 #start with some random m and c values\n",
    "c=0\n",
    "a=.99\n",
    "num_ite=1000\n",
    "from sklearn.linear_model import LinearRegression\n",
    "alg1=LinearRegression()\n",
    "alg1.fit(data[:,0].reshape(-1,1),data[:,10])\n",
    "print(alg1.coef_,alg1.intercept_)\n",
    "print(\"optimal cost:\",cost(data,alg1.coef_[0],alg1.intercept_))\n",
    "#data=feature_scaling(data)\n",
    "m,c=gradient_descent(data,m,c,a,num_ite) # We used the whole data.Instead we coluld have split the data into training and testing. \n",
    "print(\"m:\",m,\"c:\",c)\n",
    "print(cost(data,m,c))"
   ]
  }
 ],
 "metadata": {
  "kernelspec": {
   "display_name": "Python 3",
   "language": "python",
   "name": "python3"
  },
  "language_info": {
   "codemirror_mode": {
    "name": "ipython",
    "version": 3
   },
   "file_extension": ".py",
   "mimetype": "text/x-python",
   "name": "python",
   "nbconvert_exporter": "python",
   "pygments_lexer": "ipython3",
   "version": "3.6.4"
  }
 },
 "nbformat": 4,
 "nbformat_minor": 2
}
